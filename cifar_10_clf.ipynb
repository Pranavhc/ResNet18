{
 "cells": [
  {
   "cell_type": "code",
   "execution_count": 2,
   "metadata": {},
   "outputs": [],
   "source": [
    "import torch\n",
    "import torch.nn as nn\n",
    "from torch.utils.data import DataLoader\n",
    "import torchvision\n",
    "\n",
    "import matplotlib.pyplot as plt\n",
    "import numpy as np\n",
    "from tqdm import tqdm\n",
    "\n",
    "from resnet18 import ResNet18"
   ]
  },
  {
   "cell_type": "markdown",
   "metadata": {},
   "source": [
    "Hyperparameters"
   ]
  },
  {
   "cell_type": "code",
   "execution_count": 3,
   "metadata": {},
   "outputs": [],
   "source": [
    "batch_size = 256\n",
    "learning_rate = 0.01\n",
    "norm_mean = (0.5, 0.5, 0.5) # to normalize each channel\n",
    "norm_std = (0.5, 0.5, 0.5)  # to normalize each channel\n",
    "\n",
    "device = 'cuda' if torch.cuda.is_available() else 'cpu'"
   ]
  },
  {
   "cell_type": "markdown",
   "metadata": {},
   "source": [
    "Utility function"
   ]
  },
  {
   "cell_type": "code",
   "execution_count": 4,
   "metadata": {},
   "outputs": [],
   "source": [
    "def img_show(img:torch.Tensor):\n",
    "    # unnormalize image tensor\n",
    "    mean = torch.tensor(norm_mean).view(3,1,1)\n",
    "    std = torch.tensor(norm_std).view(3,1,1)\n",
    "    img = img * std + mean\n",
    "\n",
    "    npimg = img.numpy()\n",
    "    plt.imshow(np.transpose(npimg, (1, 2, 0)))\n",
    "    plt.show()"
   ]
  },
  {
   "cell_type": "markdown",
   "metadata": {},
   "source": [
    "Setting up the data"
   ]
  },
  {
   "cell_type": "code",
   "execution_count": 5,
   "metadata": {},
   "outputs": [
    {
     "name": "stdout",
     "output_type": "stream",
     "text": [
      "Files already downloaded and verified\n",
      "Files already downloaded and verified\n"
     ]
    }
   ],
   "source": [
    "# Transformations\n",
    "transform_train = torchvision.transforms.Compose([\n",
    "    torchvision.transforms.RandomResizedCrop(32),                   # crop img to 32x32\n",
    "    torchvision.transforms.RandomHorizontalFlip(),                  # flip horizontally\n",
    "    torchvision.transforms.ToTensor(),                              # convert to tensor\n",
    "    torchvision.transforms.Normalize(mean=norm_mean, std=norm_std)  # normalize\n",
    "])\n",
    "\n",
    "transform_test = torchvision.transforms.Compose([\n",
    "    torchvision.transforms.ToTensor(),\n",
    "    torchvision.transforms.Normalize(mean=norm_mean, std=norm_std)\n",
    "])\n",
    "\n",
    "# Download CIFAR-10 dataset\n",
    "train_dataset = torchvision.datasets.CIFAR10(root='./data', train=True, transform=transform_train, download=True)\n",
    "test_dataset = torchvision.datasets.CIFAR10(root='./data', train=False, transform=transform_test, download=True)\n",
    "\n",
    "load_dataset = torchvision.datasets.DatasetFolder\n",
    "\n",
    "# Split train dataset into train and validation\n",
    "train_set, val_set = torch.utils.data.random_split(train_dataset, [0.90, 0.10])\n",
    "\n",
    "# Data loaders\n",
    "train_loader = DataLoader(train_set, batch_size, shuffle=True, num_workers=2)\n",
    "val_loader = DataLoader(val_set, batch_size, shuffle=True, num_workers=2)\n",
    "test_loader = DataLoader(test_dataset, batch_size, shuffle=False, num_workers=2)\n",
    "\n",
    "classes = ('plane', 'car', 'bird', 'cat', 'deer', 'dog', 'frog', 'horse', 'ship', 'truck')"
   ]
  },
  {
   "cell_type": "markdown",
   "metadata": {},
   "source": [
    "look at the data"
   ]
  },
  {
   "cell_type": "code",
   "execution_count": 5,
   "metadata": {},
   "outputs": [
    {
     "name": "stdout",
     "output_type": "stream",
     "text": [
      "Input Tensor: torch.Size([3, 32, 32])\n",
      "Label: 2\n"
     ]
    },
    {
     "data": {
      "image/png": "[encoded data removed]",
      "text/plain": [
       "<Figure size 640x480 with 1 Axes>"
      ]
     },
     "metadata": {},
     "output_type": "display_data"
    },
    {
     "name": "stdout",
     "output_type": "stream",
     "text": [
      "deer  cat   truck ship \n"
     ]
    }
   ],
   "source": [
    "imgs, labels = train_set[0]\n",
    "\n",
    "print(f\"Input Tensor: {imgs.shape}\")\n",
    "print(f\"Label: {labels}\")\n",
    "\n",
    "data_iter = iter(train_loader)\n",
    "imgs, labels = next(data_iter)\n",
    "\n",
    "img_show(torchvision.utils.make_grid(imgs[:4]))\n",
    "print(' '.join(f'{classes[labels[j]]:5s}' for j in range(4)))"
   ]
  },
  {
   "cell_type": "markdown",
   "metadata": {},
   "source": [
    "Trainer for the model\n",
    "\n",
    "We'll use Learning Rate Scheduler to decrease the learning rate by `gamma` every `step_size` epochs.\n",
    "\n",
    "<div style=\"display:flex; align-items:start; font-size:1.2rem\"> \n",
    "    \n",
    "$$\\text{lr}_{\\text{updated}} = \\text{lr}_{\\text{previous}} \\times \\gamma^{\\left\\lfloor\\frac{\\text{epoch}}{\\text{step\\_size}}\\right\\rfloor}$$\n",
    "</div>\n"
   ]
  },
  {
   "cell_type": "code",
   "execution_count": 6,
   "metadata": {},
   "outputs": [],
   "source": [
    "class Trainer:\n",
    "    def __init__(self, model:nn.Module, epochs:int, lr:float=0.01) -> None:\n",
    "        self.model = model\n",
    "        self.epochs = epochs\n",
    "        \n",
    "        self.model.to(device)\n",
    "\n",
    "        self.criterion = nn.CrossEntropyLoss()\n",
    "        self.optim = torch.optim.Adam(model.parameters(), lr=lr)\n",
    "        self.scheduler = torch.optim.lr_scheduler.StepLR(self.optim, step_size=10, gamma=0.1)\n",
    "\n",
    "        # model metrics\n",
    "        self.train_losses, self.val_losses = [], []\n",
    "        self.train_accs, self.val_accs = [], []\n",
    "        \n",
    "\n",
    "    def train(self, train_loader:DataLoader, val_loader:DataLoader) -> None:\n",
    "        for epoch in range(self.epochs):\n",
    "            t_batch_loss, v_batch_loss = [], []\n",
    "            t_batch_acc, v_batch_acc = [], []\n",
    "            \n",
    "            self.model.train()\n",
    "            pbar = tqdm(train_loader, total=len(train_loader))\n",
    "            pbar.set_description(f\"Epoch {epoch+1:2d}/{self.epochs:2d}\")\n",
    "            pbar.bar_format = \"{l_bar}{bar:20}| {n_fmt}/{total_fmt}{postfix}\"\n",
    "            for (x, y) in pbar:\n",
    "                x, y = x.to(device), y.to(device)\n",
    "                \n",
    "                self.optim.zero_grad()\n",
    "                y_pred = self.model(x)\n",
    "                loss = self.criterion(y_pred, y)\n",
    "\n",
    "                loss.backward()\n",
    "                self.optim.step()\n",
    "\n",
    "                t_batch_loss.append(loss.item())\n",
    "                t_batch_acc.append(self.__accuracy(y_pred, y))\n",
    "\n",
    "                pbar.set_postfix({'loss': loss.item(), 'acc': self.__accuracy(y_pred, y).item()})\n",
    "\n",
    "            self.train_losses.append(sum(t_batch_loss)/len(t_batch_loss))   # append average loss\n",
    "            self.train_accs.append(sum(t_batch_acc)/len(t_batch_acc))       # append average accuracy\n",
    "\n",
    "            self.model.eval()\n",
    "            with torch.no_grad():\n",
    "                for (x_v, y_v) in val_loader:\n",
    "                    x_v, y_v = x_v.to(device), y_v.to(device)\n",
    "                    y_pred = self.model(x_v)\n",
    "                    loss = self.criterion(y_pred, y_v)\n",
    "\n",
    "                    v_batch_loss.append(loss.item())\n",
    "                    v_batch_acc.append(self.__accuracy(y_pred, y_v))\n",
    "                \n",
    "                \n",
    "            self.val_losses.append(sum(v_batch_loss)/len(v_batch_loss))\n",
    "            self.val_accs.append(sum(v_batch_acc)/len(v_batch_acc))\n",
    "\n",
    "            tqdm.write(f\"LOSS: train={self.train_losses[-1]:.4f}, val={self.val_losses[-1]:.4f}, ACC: train={self.train_accs[-1]:.4f}, val={self.val_accs[-1]:.4f}\\n\")\n",
    "\n",
    "    def test(self, test_loader:DataLoader) -> float:\n",
    "        self.model.eval()\n",
    "        with torch.no_grad():\n",
    "            t_batch_acc = []\n",
    "            for (x_t, y_t) in test_loader:\n",
    "                x_t, y_t = x_t.to(device), y_t.to(device)\n",
    "                y_pred = self.model(x_t)\n",
    "                t_batch_acc.append(self.__accuracy(y_pred, y_t))\n",
    "\n",
    "        return sum(t_batch_acc)/len(t_batch_acc) # return average accuracy\n",
    "\n",
    "    def __accuracy(self, preds: torch.Tensor, labels: torch.Tensor) -> float:\n",
    "        preds = torch.argmax(preds, dim=1)\n",
    "        return torch.sum(preds == labels)/len(preds)"
   ]
  },
  {
   "cell_type": "markdown",
   "metadata": {},
   "source": [
    "Let's see if the PyTorch's inbuilt ResNet18 model and Our ResNet18 model performs the same on CIFAR10 dataset with pretrained weights."
   ]
  },
  {
   "cell_type": "code",
   "execution_count": 7,
   "metadata": {},
   "outputs": [
    {
     "name": "stdout",
     "output_type": "stream",
     "text": [
      "Loading weights for ResNet18 model\n"
     ]
    }
   ],
   "source": [
    "pytorch_r18 = torchvision.models.resnet18(weights=torchvision.models.ResNet18_Weights.IMAGENET1K_V1)\n",
    "pytorch_r18.fc = nn.Linear(in_features=512, out_features=10) # changing head for our use case\n",
    "\n",
    "our_r18 = ResNet18.from_pretrained(n_classes=10) # our implementation already has head for CIFAR-10"
   ]
  },
  {
   "cell_type": "markdown",
   "metadata": {},
   "source": [
    "Training PyTorch's ResNet18 model"
   ]
  },
  {
   "cell_type": "code",
   "execution_count": 10,
   "metadata": {},
   "outputs": [],
   "source": [
    "pytorch_r18_trainer = Trainer(pytorch_r18, epochs=30, lr=learning_rate)\n",
    "pytorch_r18_trainer.train(train_loader, val_loader)"
   ]
  },
  {
   "cell_type": "markdown",
   "metadata": {},
   "source": [
    "Training Our ResNet18 model"
   ]
  },
  {
   "cell_type": "code",
   "execution_count": 8,
   "metadata": {},
   "outputs": [],
   "source": [
    "our_r18_trainer = Trainer(our_r18, epochs=30, lr=learning_rate)\n",
    "our_r18_trainer.train(train_loader, val_loader)"
   ]
  },
  {
   "cell_type": "markdown",
   "metadata": {},
   "source": [
    "Evaluating both models"
   ]
  },
  {
   "cell_type": "code",
   "execution_count": 13,
   "metadata": {},
   "outputs": [
    {
     "name": "stdout",
     "output_type": "stream",
     "text": [
      "PyTorch ResNet18 Accuracy: 0.0704\n",
      "Our ResNet18 Accuracy: 0.0705\n"
     ]
    }
   ],
   "source": [
    "their_acc = pytorch_r18_trainer.test(test_loader)\n",
    "out_acc = our_r18_trainer.test(test_loader)\n",
    "\n",
    "print(f\"PyTorch ResNet18 Accuracy: {their_acc:.4f}\")\n",
    "print(f\"Our ResNet18 Accuracy: {out_acc:.4f}\")"
   ]
  },
  {
   "cell_type": "markdown",
   "metadata": {},
   "source": [
    "**Note**: I did not train the models at all, it'll take a lot of time on my cpu-only machine. But after 30 epochs of training, both models should give ~76% accuracy on the validation set."
   ]
  }
 ],
 "metadata": {
  "kernelspec": {
   "display_name": "Python 3",
   "language": "python",
   "name": "python3"
  },
  "language_info": {
   "codemirror_mode": {
    "name": "ipython",
    "version": 3
   },
   "file_extension": ".py",
   "mimetype": "text/x-python",
   "name": "python",
   "nbconvert_exporter": "python",
   "pygments_lexer": "ipython3",
   "version": "3.12.0"
  }
 },
 "nbformat": 4,
 "nbformat_minor": 2
}
